{
 "cells": [
  {
   "cell_type": "markdown",
   "id": "fed81e54-ff8c-4e36-a1d1-7aa97c001b7d",
   "metadata": {},
   "source": [
    "using the exception class as a base for custom exceptions is essential for several reasons."
   ]
  },
  {
   "cell_type": "markdown",
   "id": "3feeb5af-1863-4711-b3b4-b018aa999e87",
   "metadata": {},
   "source": [
    "1. Consistency: By inheriting from the exception class, your custom exception follows the established conventions and structure of exceptions in the programming language."
   ]
  },
  {
   "cell_type": "markdown",
   "id": "cc32c215-6ff9-40b4-a1ff-bdd07081ca36",
   "metadata": {},
   "source": [
    "2. Compatibility: The exception class is designed to integrate seamlessly with the language's exception-handling mechanisms.\n",
    "This ensures that your custom exception can be caught and handled using standard try- catch blocks, making it compatible with existing error- handling practises."
   ]
  },
  {
   "cell_type": "markdown",
   "id": "917d4d71-76c5-4534-b19c-6e92c8a639a9",
   "metadata": {},
   "source": [
    "3. Standard features: The exception class provides standard features like stack trace information, error messages, and other functionalities that are crucial for effective debugging and error analysis.\n",
    "inheriting from the exceptions class allows your custom exception to benefit from these features without having to implement them from scratch."
   ]
  },
  {
   "cell_type": "markdown",
   "id": "fc4cf966-8094-4e49-93ac-113f7aa818db",
   "metadata": {},
   "source": [
    "4. Interoperability: When your code interacts with libraries or frameworks, using the exception class ensures that your custom exception can be easily integrated into existing error-handling systems. This promotes interoperability and consistent error reporting across different parts of a software project.  "
   ]
  },
  {
   "cell_type": "markdown",
   "id": "cc9b4dae-8920-479e-b64b-c192070630a8",
   "metadata": {},
   "source": [
    "In summary, using the exceptions class as a base for custom exceptions provides a solid foundation, aligns with language conventions, ensures compatibility with existing error- handling mechanisms, and facilitates better collaboration and integration in a codebase."
   ]
  },
  {
   "cell_type": "code",
   "execution_count": 6,
   "id": "27b53afb-b7b4-4c2c-87df-31ef85b4d2c0",
   "metadata": {},
   "outputs": [
    {
     "ename": "SyntaxError",
     "evalue": "invalid syntax (1778806030.py, line 1)",
     "output_type": "error",
     "traceback": [
      "\u001b[0;36m  Cell \u001b[0;32mIn[6], line 1\u001b[0;36m\u001b[0m\n\u001b[0;31m    def\u001b[0m\n\u001b[0m        ^\u001b[0m\n\u001b[0;31mSyntaxError\u001b[0m\u001b[0;31m:\u001b[0m invalid syntax\n"
     ]
    }
   ],
   "source": [
    "def \n",
    "print_exception_hierarchy(exception_class, indent = 0):\n",
    "    print(' ' * indent+\n",
    "str (exception_class))\n",
    "    for base_class in \n",
    "    exception_class.__bases__:\n",
    "print_exception_hierarchy(base_class, indent+1)\n",
    "    \n",
    "    # Get the base exception class \n",
    "base_exception = BaseException\n",
    "    \n",
    "    # Print the exception hierarchy\n",
    "print_exception_hierarchy(base_exception)"
   ]
  },
  {
   "cell_type": "markdown",
   "id": "e9e05bda-8784-4d87-a697-b6ab7e1e915c",
   "metadata": {},
   "source": [
    "1. ZeroDivisionError:"
   ]
  },
  {
   "cell_type": "markdown",
   "id": "25e9ed1c-e6f4-4a1b-8891-f076d7a6b53f",
   "metadata": {},
   "source": [
    "* description: raised when division or modulo operation is performed with zero as the divisor."
   ]
  },
  {
   "cell_type": "code",
   "execution_count": 8,
   "id": "197c7ff0-789d-44ba-81b4-1f1856b08f1a",
   "metadata": {},
   "outputs": [],
   "source": [
    "numerator = 10\n",
    "denominator = 0"
   ]
  },
  {
   "cell_type": "code",
   "execution_count": 10,
   "id": "276b6479-60d3-4e52-ba2d-ab87e2dc806e",
   "metadata": {},
   "outputs": [
    {
     "name": "stdout",
     "output_type": "stream",
     "text": [
      "Error: division by zero\n"
     ]
    }
   ],
   "source": [
    "try:\n",
    "    result = numerator/ denominator \n",
    "except ZeroDivisionError as e:\n",
    "    print(f\"Error: {e}\")"
   ]
  },
  {
   "cell_type": "markdown",
   "id": "63f88eb7-ff02-4be7-9258-4ea503c3c137",
   "metadata": {},
   "source": [
    "2. OverflowError:"
   ]
  },
  {
   "cell_type": "markdown",
   "id": "26b8234a-5d68-4b21-9fc9-cba7bcf565a2",
   "metadata": {},
   "source": [
    "* description: raised when an arithmetic operation exceeds the limits of the data type."
   ]
  },
  {
   "cell_type": "code",
   "execution_count": 11,
   "id": "0e933789-7df0-4c96-9ff1-760b1eaf87ed",
   "metadata": {},
   "outputs": [],
   "source": [
    "import sys\n",
    "max_int = sys. maxsize\n",
    "overflowed_value = max_int+1\n",
    "\n",
    "try:\n",
    "    result = overflowed_value*2\n",
    "except OverflowError as e:\n",
    "    print(f\"Error: {e}\")"
   ]
  },
  {
   "cell_type": "markdown",
   "id": "d15855f8-537c-465b-afc3-dcd2c2c67032",
   "metadata": {},
   "source": [
    "1. KeyError "
   ]
  },
  {
   "cell_type": "code",
   "execution_count": 13,
   "id": "48905c0d-1f80-407a-bc16-00532b7fed7c",
   "metadata": {},
   "outputs": [
    {
     "name": "stdout",
     "output_type": "stream",
     "text": [
      "KeyError: 'orange'\n"
     ]
    }
   ],
   "source": [
    "my_dict = {'apple': 1, 'banana': 2}\n",
    "try:\n",
    "    value = my_dict['orange']\n",
    "    # Raises a KeyError\n",
    "except KeyError as e :\n",
    "    print(f\"KeyError: {e}\")"
   ]
  },
  {
   "cell_type": "markdown",
   "id": "de8744f5-7a25-4c09-a33a-3ff758a5dff1",
   "metadata": {},
   "source": [
    "2. IndexError"
   ]
  },
  {
   "cell_type": "code",
   "execution_count": 14,
   "id": "d4c27cf9-7299-4a78-a67b-1653e3f2804c",
   "metadata": {},
   "outputs": [
    {
     "name": "stdout",
     "output_type": "stream",
     "text": [
      "IndexError: list index out of range\n"
     ]
    }
   ],
   "source": [
    "my_list = [10, 20, 30]\n",
    "try:\n",
    "    value = my_list[3]\n",
    "    # Raises an IndexError\n",
    "except IndexError as e:\n",
    "    print(f\"IndexError: {e}\")"
   ]
  },
  {
   "cell_type": "markdown",
   "id": "38373429-0b9e-44f1-8c63-d9a4ef4b41cd",
   "metadata": {},
   "source": [
    "ImportError:"
   ]
  },
  {
   "cell_type": "code",
   "execution_count": 15,
   "id": "f7e2afb0-3fd1-42b6-b17c-507225219908",
   "metadata": {},
   "outputs": [
    {
     "name": "stdout",
     "output_type": "stream",
     "text": [
      "ImportError: No module named 'non_existent_module'\n"
     ]
    }
   ],
   "source": [
    "try: \n",
    "    import non_existent_module\n",
    "    # Raises ImportError \n",
    "except ImportError as e: \n",
    "    print(f\"ImportError: {e}\")"
   ]
  },
  {
   "cell_type": "markdown",
   "id": "9248528d-47d1-4b4e-8a54-6e4cafde7e56",
   "metadata": {},
   "source": [
    "ModuleNotFoundError:"
   ]
  },
  {
   "cell_type": "code",
   "execution_count": 17,
   "id": "7fa64966-1d15-4cf7-91eb-c410c2a6d59f",
   "metadata": {},
   "outputs": [
    {
     "name": "stdout",
     "output_type": "stream",
     "text": [
      "ModuleNotFoundError : No module named 'non_existent_package'\n"
     ]
    }
   ],
   "source": [
    "try:\n",
    "    from non_existent_package import module\n",
    "# Raises ModuleNotFoundError\n",
    "except ModuleNotFoundError as e:\n",
    "    print(f\"ModuleNotFoundError : {e}\")"
   ]
  },
  {
   "cell_type": "markdown",
   "id": "a470d763-8e03-44fc-938a-8ed3dc1b178c",
   "metadata": {},
   "source": [
    "1. use specific exceptions: \n",
    "2. avoid bare excepts:\n",
    "3. handle exceptions locally:\n",
    "4. use finally for cleanup:\n",
    "5. use with statements:\n",
    "6. log exceptions:\n",
    "7. avoid too much code in try blocks:\n",
    "8. handle specific exceptions in the right order:\n",
    "9. reraise exceptions wisely:\n",
    "10. use assertions for unreachable code:\n",
    "11. document except"
   ]
  }
 ],
 "metadata": {
  "kernelspec": {
   "display_name": "Python 3 (ipykernel)",
   "language": "python",
   "name": "python3"
  },
  "language_info": {
   "codemirror_mode": {
    "name": "ipython",
    "version": 3
   },
   "file_extension": ".py",
   "mimetype": "text/x-python",
   "name": "python",
   "nbconvert_exporter": "python",
   "pygments_lexer": "ipython3",
   "version": "3.10.8"
  }
 },
 "nbformat": 4,
 "nbformat_minor": 5
}
